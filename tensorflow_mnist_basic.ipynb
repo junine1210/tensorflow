{
 "cells": [
  {
   "cell_type": "code",
   "execution_count": 1,
   "metadata": {},
   "outputs": [
    {
     "name": "stdout",
     "output_type": "stream",
     "text": [
      "WARNING:tensorflow:From <ipython-input-1-968b587057a4>:3: read_data_sets (from tensorflow.contrib.learn.python.learn.datasets.mnist) is deprecated and will be removed in a future version.\n",
      "Instructions for updating:\n",
      "Please use alternatives such as official/mnist/dataset.py from tensorflow/models.\n",
      "WARNING:tensorflow:From /home/socmgr/.local/lib/python3.5/site-packages/tensorflow/contrib/learn/python/learn/datasets/mnist.py:260: maybe_download (from tensorflow.contrib.learn.python.learn.datasets.base) is deprecated and will be removed in a future version.\n",
      "Instructions for updating:\n",
      "Please write your own downloading logic.\n",
      "WARNING:tensorflow:From /home/socmgr/.local/lib/python3.5/site-packages/tensorflow/contrib/learn/python/learn/datasets/mnist.py:262: extract_images (from tensorflow.contrib.learn.python.learn.datasets.mnist) is deprecated and will be removed in a future version.\n",
      "Instructions for updating:\n",
      "Please use tf.data to implement this functionality.\n",
      "Extracting MNIST_data/train-images-idx3-ubyte.gz\n",
      "WARNING:tensorflow:From /home/socmgr/.local/lib/python3.5/site-packages/tensorflow/contrib/learn/python/learn/datasets/mnist.py:267: extract_labels (from tensorflow.contrib.learn.python.learn.datasets.mnist) is deprecated and will be removed in a future version.\n",
      "Instructions for updating:\n",
      "Please use tf.data to implement this functionality.\n",
      "Extracting MNIST_data/train-labels-idx1-ubyte.gz\n",
      "WARNING:tensorflow:From /home/socmgr/.local/lib/python3.5/site-packages/tensorflow/contrib/learn/python/learn/datasets/mnist.py:110: dense_to_one_hot (from tensorflow.contrib.learn.python.learn.datasets.mnist) is deprecated and will be removed in a future version.\n",
      "Instructions for updating:\n",
      "Please use tf.one_hot on tensors.\n",
      "Extracting MNIST_data/t10k-images-idx3-ubyte.gz\n",
      "Extracting MNIST_data/t10k-labels-idx1-ubyte.gz\n",
      "WARNING:tensorflow:From /home/socmgr/.local/lib/python3.5/site-packages/tensorflow/contrib/learn/python/learn/datasets/mnist.py:290: DataSet.__init__ (from tensorflow.contrib.learn.python.learn.datasets.mnist) is deprecated and will be removed in a future version.\n",
      "Instructions for updating:\n",
      "Please use alternatives such as official/mnist/dataset.py from tensorflow/models.\n",
      "0.9211\n"
     ]
    }
   ],
   "source": [
    "#https://tensorflowkorea.gitbooks.io/tensorflow-kr/g3doc/tutorials/mnist/beginners/\n",
    "#caffe -> lenet.prototext 참고\n",
    "\n",
    "from tensorflow.examples.tutorials.mnist import input_data\n",
    "import tensorflow as tf\n",
    "mnist = input_data.read_data_sets(\"MNIST_data/\", one_hot=True)\n",
    "\n",
    "x = tf.placeholder(tf.float32, [None, 784])\n",
    "#텐서플로우에서 연산 실행 시 값을 입력할 자리 784차원 변형된 벡터(none=길이제한없다)\n",
    "\n",
    "W = tf.Variable(tf.zeros([784, 10]))#weight 변수 생성 후 영행렬\n",
    "#W에 784차원의 이미지 벡터를 곱해서 각 클래스에 대한 증거값을 나타내는 10차원 벡터를 얻고자 하기 때문\n",
    "\n",
    "b = tf.Variable(tf.zeros([10]))#바이어스 변수 생성 후 영행렬\n",
    "#b는 그 10차원 벡터에 더하기 위해 [10]의 형태를 갖는 것\n",
    "\n",
    "y = tf.nn.softmax(tf.matmul(x, W) + b)#모델 구현\n",
    "#우선, tf.matmul(x, W)로 x와 W를 곱합니다.\n",
    "#이 표현은 위에서 본 수식에서 곱했던 순서인 \\(Wx\\)와 반대인데\n",
    "#(행렬이므로 순서가 중요하죠),\n",
    "#x가 여러 입력값을 갖는 2차원 텐서인 경우에도 대응하기 위한 작은 트릭입니다.\n",
    "#그 다음엔 b를 더하고, 마지막으로 tf.nn.softmax을 적용합니다.\n",
    "\n",
    "\n",
    "y_ = tf.placeholder(tf.float32, [None, 10])\n",
    "#크로스 엔트로피를 구현하기 위한 새로운 플레이스홀더 생성\n",
    "\n",
    "cross_entropy = tf.reduce_mean(-tf.reduce_sum(y_ * tf.log(y), reduction_indices=[1]))\n",
    "#tf.log는 y의 각 원소의 로그 값을 계산합니다.\n",
    "#그 다음, y_의 각 원소를 tf.log(y)의 해당하는 원소들과 곱합니다.\n",
    "#그리고 tf.reduce_sum으로\n",
    "#y의 2번째 차원(reduction_indices=[1]이라는 파라미터가 주어졌으므로)의 원소들을 합합니다.\n",
    "#마지막으로, tf.reduce_mean으로 배치(batch)의 모든 예시에 대한 평균을 계산합니다.\n",
    "\n",
    "train_step = tf.train.GradientDescentOptimizer(0.5).minimize(cross_entropy)\n",
    "#텐서플로우에게 학습 비율 0.5로 경사 하강법(gradient descent algorithm)을 적용하여\n",
    "#크로스 엔트로피를 최소화하도록 지시합니다\n",
    "\n",
    "init = tf.global_variables_initializer()#실행 전 작성한 변수들 초기화 기능 추가\n",
    "\n",
    "sess = tf.Session()#모델 실행, 변수 초기화\n",
    "sess.run(init)\n",
    "\n",
    "for i in range(1000):#1000번 학습\n",
    "  batch_xs, batch_ys = mnist.train.next_batch(100)\n",
    "  sess.run(train_step, feed_dict={x: batch_xs, y_: batch_ys})\n",
    "\n",
    "correct_prediction = tf.equal(tf.argmax(y,1), tf.argmax(y_,1))\n",
    "# 모델이 라벨을 올바르게 예측했는지 확인\n",
    "\n",
    "accuracy = tf.reduce_mean(tf.cast(correct_prediction, tf.float32))\n",
    "# 모델의 정확도를 계산\n",
    "\n",
    "print(sess.run(accuracy, feed_dict={x: mnist.test.images, y_: mnist.test.labels}))"
   ]
  }
 ],
 "metadata": {
  "kernelspec": {
   "display_name": "Python 3",
   "language": "python",
   "name": "python3"
  },
  "language_info": {
   "codemirror_mode": {
    "name": "ipython",
    "version": 3
   },
   "file_extension": ".py",
   "mimetype": "text/x-python",
   "name": "python",
   "nbconvert_exporter": "python",
   "pygments_lexer": "ipython3",
   "version": "3.5.2"
  }
 },
 "nbformat": 4,
 "nbformat_minor": 2
}
